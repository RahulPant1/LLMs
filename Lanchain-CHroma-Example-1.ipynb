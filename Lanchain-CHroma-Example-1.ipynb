{
 "cells": [
  {
   "cell_type": "code",
   "execution_count": null,
   "metadata": {},
   "outputs": [],
   "source": [
    "from langchain_community.llms import Ollama\n",
    "from langchain.document_loaders.recursive_url_loader import RecursiveUrlLoader\n",
    "from langchain.text_splitter import CharacterTextSplitter,RecursiveCharacterTextSplitter\n",
    "from langchain.vectorstores import Chroma\n",
    "from langchain.chains import ConversationalRetrievalChain\n",
    "from langchain.embeddings import HuggingFaceEmbeddings\n",
    "from bs4 import BeautifulSoup as Soup\n",
    "from langchain.utils.html import (PREFIXES_TO_IGNORE_REGEX,SUFFIXES_TO_IGNORE_REGEX)\n",
    "import os\n",
    "import sys"
   ]
  },
  {
   "cell_type": "code",
   "execution_count": 2,
   "metadata": {},
   "outputs": [],
   "source": [
    "\n",
    "# vector index persist directory\n",
    "INDEX_PERSIST_DIRECTORY = os.getenv('INDEX_PERSIST_DIRECTORY', \"./data/chromadb\")\n",
    "global conversation\n",
    "conversation = None"
   ]
  },
  {
   "cell_type": "code",
   "execution_count": 3,
   "metadata": {},
   "outputs": [
    {
     "name": "stderr",
     "output_type": "stream",
     "text": [
      "/tmp/ipykernel_333064/1394225330.py:2: LangChainDeprecationWarning: The class `Chroma` was deprecated in LangChain 0.2.9 and will be removed in 1.0. An updated version of the class exists in the :class:`~langchain-chroma package and should be used instead. To use it run `pip install -U :class:`~langchain-chroma` and import as `from :class:`~langchain_chroma import Chroma``.\n",
      "  client = Chroma(persist_directory=INDEX_PERSIST_DIRECTORY)\n"
     ]
    }
   ],
   "source": [
    "# Connect to your ChromaDB and delete all exisitng docs\n",
    "client = Chroma(persist_directory=INDEX_PERSIST_DIRECTORY)\n",
    "# Get a handle to the default collection\n",
    "collection = client.delete_collection()"
   ]
  },
  {
   "cell_type": "code",
   "execution_count": 4,
   "metadata": {},
   "outputs": [
    {
     "name": "stderr",
     "output_type": "stream",
     "text": [
      "/tmp/ipykernel_333064/369530036.py:20: LangChainDeprecationWarning: The class `HuggingFaceEmbeddings` was deprecated in LangChain 0.2.2 and will be removed in 1.0. An updated version of the class exists in the :class:`~langchain-huggingface package and should be used instead. To use it run `pip install -U :class:`~langchain-huggingface` and import as `from :class:`~langchain_huggingface import HuggingFaceEmbeddings``.\n",
      "  embeddings = HuggingFaceEmbeddings(model_name=\"all-MiniLM-L6-v2\")\n",
      "/tmp/ipykernel_333064/369530036.py:26: LangChainDeprecationWarning: Since Chroma 0.4.x the manual persistence method is no longer supported as docs are automatically persisted.\n",
      "  vectordb.persist()\n"
     ]
    }
   ],
   "source": [
    "#Define the documents and store it in vector database-Chroma\n",
    "\n",
    "documents = RecursiveUrlLoader(\n",
    "    url=\"https://www.bbc.com/\",\n",
    "    max_depth=1,  # Limit to top-level articles\n",
    "    extractor=lambda x: Soup(x, \"html.parser\").find(\"article\").text,\n",
    "    # drop trailing / to avoid duplicate pages.\n",
    "    link_regex=(\n",
    "        f\"href=[\\\"']{PREFIXES_TO_IGNORE_REGEX}((?:{SUFFIXES_TO_IGNORE_REGEX}.)*?)\"\n",
    "        r\"(?:[\\#'\\\"]|\\/[\\#'\\\"])\"\n",
    "    ),\n",
    ").load()\n",
    "\n",
    "\n",
    "# this chunk_size and chunk_overlap effects to the prompt size\n",
    "# exceed promt size causes error `prompt size exceeds the context window size and cannot be processed`\n",
    "text_splitter = RecursiveCharacterTextSplitter(chunk_size=1000, chunk_overlap=50)\n",
    "documents = text_splitter.split_documents(documents)\n",
    "\n",
    "# create embeddings with huggingface embedding model `all-MiniLM-L6-v2`\n",
    "# then persist the vector index on vector db\n",
    "embeddings = HuggingFaceEmbeddings(model_name=\"all-MiniLM-L6-v2\")\n",
    "vectordb = Chroma.from_documents(\n",
    "    documents=documents,\n",
    "    embedding=embeddings,\n",
    "    persist_directory=INDEX_PERSIST_DIRECTORY\n",
    ")\n",
    "vectordb.persist()"
   ]
  },
  {
   "cell_type": "code",
   "execution_count": 5,
   "metadata": {},
   "outputs": [
    {
     "name": "stdout",
     "output_type": "stream",
     "text": [
      "Document 1:\n",
      "accompanied by her grandson Beau, welcomed the arrival of the festive fir hailing from North Carolina.2 days agoUS & CanadaScience and HealthWhy we feel the need to feast togetherFor thousands of years, humans have come together in small group to feast on food. Why is it important – and why do we still continue the tradition?See moreWatch listNine of the best TV shows to watch in DecemberFrom the \n",
      "--------------------------------------------------------------------------------\n",
      "Document 2:\n",
      "world newsNamibians vote as ruling party seeks to extend 34-year rule34 mins agoAfricaCouncil back Creeslough explosion public inquiry call2 hrs agoEuropeThe millions of euros 'vital' to cross-border communities6 hrs agoEuropeAfrica's incoming health boss dies aged 55Faustine Ndugulile was elected WHO African director months ago and was due to take over from February.6 hrs agoAfricaVideoSee Nasa's\n",
      "--------------------------------------------------------------------------------\n",
      "Document 3:\n",
      "going to be hard': US firms race to get ahead of Trump tariffsThe US president-elect's import taxes may be just talk until he takes office - but they are having an impact anyway. 7 hrs agoUS & CanadaAstronauts unbox Thanksgiving meal aboard ISS\"We're thankful for zero gravity\" says stranded astronaut Barry \"Butch\" Wilmore.2 hrs agoUS & CanadaWhy India's latest Sun mission finding is crucial for th\n",
      "--------------------------------------------------------------------------------\n",
      "Document 4:\n",
      "calls for incentives to buy electric cars as backlash grows28 mins agoBusiness'It's going to be hard': US firms race to get ahead of Trump tariffs7 hrs agoUS & CanadaAston Martin issues second profit warning in two months12 hrs agoBusiness'No-one will win' - Canada, Mexico and China respond to Trump tariff threatsMexico said it would slap tit-for-tat tariffs on the US, while China said Trump's fin\n",
      "--------------------------------------------------------------------------------\n",
      "Document 5:\n",
      "the US, while China said Trump's finger-pointing \"runs completely counter to facts\".15 hrs agoUS & CanadaIsrael-Gaza warPeople in Israel and Lebanon react to ceasefire deal16 hrs agoMiddle EastQuestions over Hezbollah's future after ceasefire19 hrs agoMiddle EastBiden confirms 'good news' of Israel-Hezbollah ceasefire deal20 hrs agoWorldAnger and distrust among displaced Israelis at ceasefire deal\n",
      "--------------------------------------------------------------------------------\n",
      "Document 6:\n",
      "hrs agoTravelHow a 1990s Swan Lake changed dance foreverCelebrating the 30th anniversary of his legendary stage production, Matthew Bourne tells the BBC about the show that radically changed ballet with one \"big idea\".6 hrs agoCultureMore newsDiver describes rescuing nephew from capsized Egypt boat 2 hrs agoWorldImran Khan supporters call off protest after crackdown2 hrs agoAsiaThree Americans rel\n",
      "--------------------------------------------------------------------------------\n",
      "Document 7:\n",
      "In-depth insights from the BBC, the world's most trusted international news provider.Register for a BBC accountDon't have time to read everything right now? Your BBC account lets you save articles and videos for later. The Essential ListThe week’s best stories, handpicked by BBC editors, in your inbox every Friday.News Briefing: Sign up to our newsletterNews and expert analysis for every schedule.\n",
      "--------------------------------------------------------------------------------\n",
      "Document 8:\n",
      "single women and female couples having IVF1 day agoHealthHow fidget toys could help reduce youth self-harm2 days agoNorth YorkshireMeasles outbreak prompts call for vaccination uptake2 days agoEnglandFolic acid to be added to flour for NI babies healthFood producers in Northern Ireland will add folic acid to non-wholemeal flour by law from 2026.2 days agoNorthern IrelandCultureSouth Korean star's \n",
      "--------------------------------------------------------------------------------\n",
      "Document 9:\n",
      "as people return to southern LebanonThe BBC's Middle East correspondent, Hugo Bachega, is at the main highway between Beirut and the south as people start to return to their homes.7 hrs agoMiddle EastWatch: Birth of seal pup caught by wildlife cameraThe camera live-streams from the heart of England’s largest grey seal colony.4 hrs agoNorfolkPeople in Israel and Lebanon react to ceasefire dealPeopl\n",
      "--------------------------------------------------------------------------------\n",
      "Document 10:\n",
      "artwork of Alan Turing sells for $1mSotheby's says the Ai-Da Robot work \"marks a moment in the history of modern and contemporary art\".7 Nov 2024EnglandTravelWill you be going on holiday to… Greenland?4 hrs agoTravelOne of Europe's most remote corners opens up2 days agoTravelJordy Navarra's festive Filipino feast3 days agoTravelA dancehall superstar's guide to JamaicaFrom hiking Dunn's River Falls\n",
      "--------------------------------------------------------------------------------\n",
      "Document 11:\n",
      "US to start immediately on fresh push for Gaza ceasefirePresident Joe Biden aims for a deal involving the release of hostages and the removal of Hamas from power.2 hrs ago'Arctic outbreak' for parts of US as millions travel for ThanksgivingTemperatures could plummet to -40C in the northern Plains and Upper Midwest during a busy period for travel.4 hrs agoUS & CanadaUS to start immediately on fresh\n",
      "--------------------------------------------------------------------------------\n"
     ]
    }
   ],
   "source": [
    "# Retrieve all documents\n",
    "all_documents = vectordb.similarity_search(query=\"\", k=len(documents))  # Empty query retrieves all documents\n",
    "\n",
    "# Display the stored documents\n",
    "for idx, doc in enumerate(all_documents):\n",
    "    print(f\"Document {idx+1}:\")\n",
    "    print(doc.page_content[:400])  # Display the first 500 characters of each document\n",
    "    print(\"-\" * 80)"
   ]
  },
  {
   "cell_type": "code",
   "execution_count": 8,
   "metadata": {},
   "outputs": [],
   "source": [
    "def init_conversation():\n",
    "    global conversation\n",
    "\n",
    "    # load index\n",
    "    embeddings = HuggingFaceEmbeddings(model_name=\"all-MiniLM-L6-v2\")\n",
    "    vectordb = Chroma(persist_directory=INDEX_PERSIST_DIRECTORY,embedding_function=embeddings)\n",
    "\n",
    "    # ollama expose an api for the llam in `localhost:11434`\n",
    "    llm = Ollama(\n",
    "        model=\"llama3:8b-instruct-q6_K\",\n",
    "        base_url=\"http://localhost:11434\",\n",
    "        verbose=True,\n",
    "    )\n",
    "\n",
    "    # create conversation\n",
    "    conversation = ConversationalRetrievalChain.from_llm(\n",
    "        llm,\n",
    "        retriever=vectordb.as_retriever(),\n",
    "        return_source_documents=True,\n",
    "        verbose=True,\n",
    "    )\n",
    "\n",
    "\n",
    "def chat(question, user_id):\n",
    "    global conversation\n",
    "\n",
    "    chat_history = []\n",
    "    response = conversation({\"question\": question, \"chat_history\": chat_history})\n",
    "    answer = response['answer']\n",
    "\n",
    "    #logging.info(\"got response from llm - %s\", answer)\n",
    "\n",
    "    # TODO save history\n",
    "\n",
    "    return answer"
   ]
  },
  {
   "cell_type": "code",
   "execution_count": 9,
   "metadata": {},
   "outputs": [
    {
     "name": "stderr",
     "output_type": "stream",
     "text": [
      "/tmp/ipykernel_333064/3186980998.py:9: LangChainDeprecationWarning: The class `Ollama` was deprecated in LangChain 0.3.1 and will be removed in 1.0.0. An updated version of the class exists in the :class:`~langchain-ollama package and should be used instead. To use it run `pip install -U :class:`~langchain-ollama` and import as `from :class:`~langchain_ollama import OllamaLLM``.\n",
      "  llm = Ollama(\n"
     ]
    }
   ],
   "source": [
    "init_conversation()"
   ]
  },
  {
   "cell_type": "code",
   "execution_count": 13,
   "metadata": {},
   "outputs": [
    {
     "name": "stdout",
     "output_type": "stream",
     "text": [
      "\n",
      "\n",
      "\u001b[1m> Entering new StuffDocumentsChain chain...\u001b[0m\n",
      "\n",
      "\n",
      "\u001b[1m> Entering new LLMChain chain...\u001b[0m\n",
      "Prompt after formatting:\n",
      "\u001b[32;1m\u001b[1;3mUse the following pieces of context to answer the question at the end. If you don't know the answer, just say that you don't know, don't try to make up an answer.\n",
      "\n",
      "as people return to southern LebanonThe BBC's Middle East correspondent, Hugo Bachega, is at the main highway between Beirut and the south as people start to return to their homes.7 hrs agoMiddle EastWatch: Birth of seal pup caught by wildlife cameraThe camera live-streams from the heart of England’s largest grey seal colony.4 hrs agoNorfolkPeople in Israel and Lebanon react to ceasefire dealPeople in Tel Aviv and Beirut shared feelings of relief and doubt as they reacted to the news.16 hrs agoMiddle EastUS travellers pack airports ahead of Thanksgiving holidayAround 50,000 flights are expected to fly on Wednesday, according to the Federal Aviation Administration.17 hrs agoUS & CanadaBiden confirms 'good news' of Israel-Hezbollah ceasefire dealUS President Joe Biden says Israel and Lebanon have agreed to a ceasefire deal to end fighting with Hezbollah in Lebanon.20 hrs agoWorldFirst Lady receives White House Christmas treeJill Biden, accompanied by her grandson Beau, welcomed the\n",
      "\n",
      "the US, while China said Trump's finger-pointing \"runs completely counter to facts\".15 hrs agoUS & CanadaIsrael-Gaza warPeople in Israel and Lebanon react to ceasefire deal16 hrs agoMiddle EastQuestions over Hezbollah's future after ceasefire19 hrs agoMiddle EastBiden confirms 'good news' of Israel-Hezbollah ceasefire deal20 hrs agoWorldAnger and distrust among displaced Israelis at ceasefire dealMany displaced residents of northern Israel feel unease and mistrust over their PM's deal with Lebanon.21 hrs agoMiddle EastWar in UkraineKey Russian air defence system hit in Ukraine Atacms strike24 hrs agoEuropeRussia confirms capture of British man accused of fighting for Ukraine1 day agoEuropeRussian deserter reveals war secrets of guarding nuclear base2 days agoEuropeRussia and Ukraine trade missile and drone strikesThe intensified attacks come days after Russia tested a new missile on the Ukrainian city of Dnipro.2 days agoEuropeMore world newsNamibians vote as ruling party seeks to\n",
      "\n",
      "US to start immediately on fresh push for Gaza ceasefirePresident Joe Biden aims for a deal involving the release of hostages and the removal of Hamas from power.2 hrs ago'Arctic outbreak' for parts of US as millions travel for ThanksgivingTemperatures could plummet to -40C in the northern Plains and Upper Midwest during a busy period for travel.4 hrs agoUS & CanadaUS to start immediately on fresh push for Gaza ceasefirePresident Joe Biden aims for a deal involving the release of hostages and the removal of Hamas from power.2 hrs ago'Arctic outbreak' for parts of US as millions travel for ThanksgivingTemperatures could plummet to -40C in the northern Plains and Upper Midwest during a busy period for travel.4 hrs agoUS & CanadaLIVE'It's all gone': Lebanese civilians return to destroyed homes as ceasefire appears to holdThousands of families displaced by the conflict are travelling home, hours after an Israel-Hezbollah ceasefire takes effect.'It's going to be hard': US firms race to get\n",
      "\n",
      "hrs agoTravelHow a 1990s Swan Lake changed dance foreverCelebrating the 30th anniversary of his legendary stage production, Matthew Bourne tells the BBC about the show that radically changed ballet with one \"big idea\".6 hrs agoCultureMore newsDiver describes rescuing nephew from capsized Egypt boat 2 hrs agoWorldImran Khan supporters call off protest after crackdown2 hrs agoAsiaThree Americans released in US-China prisoner exchange1 hr agoWorldICC prosecutor seeks arrest warrant for Myanmar leader 5 hrs agoAsiaIndia and Bangladesh spar over Hindu monk's arrest7 hrs agoAsiaMust watchBeirut resident returning home: 'Everything was gone'25 year-old Rayane Salman describes how she and her parents lost their home and possessions in an Israeli air strike.2 hrs agoMiddle EastTown embraces 'wonky' Christmas treeThe donated tree, which appears to have some missing branches, was defended by people in the town.2 hrs agoLincolnshireBBC on the ground as people return to southern LebanonThe BBC's\n",
      "\n",
      "Question: What is the current situation in Lebanon\n",
      "Helpful Answer:\u001b[0m\n",
      "\n",
      "\u001b[1m> Finished chain.\u001b[0m\n",
      "\n",
      "\u001b[1m> Finished chain.\u001b[0m\n"
     ]
    },
    {
     "data": {
      "text/plain": [
       "'According to the context, a ceasefire deal has been reached between Israel and Hezbollah in Lebanon, and thousands of families displaced by the conflict are traveling back to their homes. This is reported in articles such as \"LIVE\\'It\\'s all gone\\': Lebanese civilians return to destroyed homes as ceasefire appears to hold\" and \"BBC on the ground as people return to southern Lebanon\".'"
      ]
     },
     "execution_count": 13,
     "metadata": {},
     "output_type": "execute_result"
    }
   ],
   "source": [
    "chat(\"What is the current situation in Lebanon\",\"user123\")"
   ]
  },
  {
   "cell_type": "code",
   "execution_count": null,
   "metadata": {},
   "outputs": [],
   "source": []
  },
  {
   "cell_type": "code",
   "execution_count": null,
   "metadata": {},
   "outputs": [],
   "source": []
  }
 ],
 "metadata": {
  "kernelspec": {
   "display_name": "autogenstudio",
   "language": "python",
   "name": "python3"
  },
  "language_info": {
   "codemirror_mode": {
    "name": "ipython",
    "version": 3
   },
   "file_extension": ".py",
   "mimetype": "text/x-python",
   "name": "python",
   "nbconvert_exporter": "python",
   "pygments_lexer": "ipython3",
   "version": "3.11.9"
  }
 },
 "nbformat": 4,
 "nbformat_minor": 2
}
